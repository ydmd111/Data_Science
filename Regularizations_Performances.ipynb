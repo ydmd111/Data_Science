{
 "cells": [
  {
   "cell_type": "markdown",
   "id": "documentary-bandwidth",
   "metadata": {},
   "source": [
    "# Importing the necessary libraries:"
   ]
  },
  {
   "cell_type": "code",
   "execution_count": 1,
   "id": "exceptional-privacy",
   "metadata": {},
   "outputs": [],
   "source": [
    "import numpy as np\n",
    "import pandas as pd\n",
    "import matplotlib.pyplot as plt\n",
    "import seaborn as sns"
   ]
  },
  {
   "cell_type": "markdown",
   "id": "spread-taste",
   "metadata": {},
   "source": [
    "# Reading the csv file:"
   ]
  },
  {
   "cell_type": "code",
   "execution_count": 2,
   "id": "capable-honey",
   "metadata": {},
   "outputs": [],
   "source": [
    "df=pd.read_csv('Advertising.csv')"
   ]
  },
  {
   "cell_type": "code",
   "execution_count": 3,
   "id": "distinguished-cyprus",
   "metadata": {},
   "outputs": [
    {
     "data": {
      "text/html": [
       "<div>\n",
       "<style scoped>\n",
       "    .dataframe tbody tr th:only-of-type {\n",
       "        vertical-align: middle;\n",
       "    }\n",
       "\n",
       "    .dataframe tbody tr th {\n",
       "        vertical-align: top;\n",
       "    }\n",
       "\n",
       "    .dataframe thead th {\n",
       "        text-align: right;\n",
       "    }\n",
       "</style>\n",
       "<table border=\"1\" class=\"dataframe\">\n",
       "  <thead>\n",
       "    <tr style=\"text-align: right;\">\n",
       "      <th></th>\n",
       "      <th>TV</th>\n",
       "      <th>radio</th>\n",
       "      <th>newspaper</th>\n",
       "      <th>sales</th>\n",
       "    </tr>\n",
       "  </thead>\n",
       "  <tbody>\n",
       "    <tr>\n",
       "      <th>0</th>\n",
       "      <td>230.1</td>\n",
       "      <td>37.8</td>\n",
       "      <td>69.2</td>\n",
       "      <td>22.1</td>\n",
       "    </tr>\n",
       "    <tr>\n",
       "      <th>1</th>\n",
       "      <td>44.5</td>\n",
       "      <td>39.3</td>\n",
       "      <td>45.1</td>\n",
       "      <td>10.4</td>\n",
       "    </tr>\n",
       "    <tr>\n",
       "      <th>2</th>\n",
       "      <td>17.2</td>\n",
       "      <td>45.9</td>\n",
       "      <td>69.3</td>\n",
       "      <td>9.3</td>\n",
       "    </tr>\n",
       "    <tr>\n",
       "      <th>3</th>\n",
       "      <td>151.5</td>\n",
       "      <td>41.3</td>\n",
       "      <td>58.5</td>\n",
       "      <td>18.5</td>\n",
       "    </tr>\n",
       "    <tr>\n",
       "      <th>4</th>\n",
       "      <td>180.8</td>\n",
       "      <td>10.8</td>\n",
       "      <td>58.4</td>\n",
       "      <td>12.9</td>\n",
       "    </tr>\n",
       "  </tbody>\n",
       "</table>\n",
       "</div>"
      ],
      "text/plain": [
       "      TV  radio  newspaper  sales\n",
       "0  230.1   37.8       69.2   22.1\n",
       "1   44.5   39.3       45.1   10.4\n",
       "2   17.2   45.9       69.3    9.3\n",
       "3  151.5   41.3       58.5   18.5\n",
       "4  180.8   10.8       58.4   12.9"
      ]
     },
     "execution_count": 3,
     "metadata": {},
     "output_type": "execute_result"
    }
   ],
   "source": [
    "df.head()"
   ]
  },
  {
   "cell_type": "markdown",
   "id": "polyphonic-princess",
   "metadata": {},
   "source": [
    "# Separating X and y values:"
   ]
  },
  {
   "cell_type": "code",
   "execution_count": 4,
   "id": "incoming-simon",
   "metadata": {},
   "outputs": [],
   "source": [
    "X=df.drop('sales',axis=1)\n",
    "y=df['sales']"
   ]
  },
  {
   "cell_type": "markdown",
   "id": "unsigned-tucson",
   "metadata": {},
   "source": [
    "# Let's import the PolynomialFeatures library:"
   ]
  },
  {
   "cell_type": "code",
   "execution_count": 5,
   "id": "cooperative-estonia",
   "metadata": {},
   "outputs": [],
   "source": [
    "from sklearn.preprocessing import PolynomialFeatures"
   ]
  },
  {
   "cell_type": "markdown",
   "id": "pressed-witch",
   "metadata": {},
   "source": [
    "# Creating the the object or instance of  Polynomial library:"
   ]
  },
  {
   "cell_type": "code",
   "execution_count": 6,
   "id": "spanish-bangladesh",
   "metadata": {},
   "outputs": [],
   "source": [
    "polynomial_converter=PolynomialFeatures(degree=3,include_bias=False)"
   ]
  },
  {
   "cell_type": "markdown",
   "id": "through-synthesis",
   "metadata": {},
   "source": [
    "# Now fitting & transforming the X:"
   ]
  },
  {
   "cell_type": "code",
   "execution_count": 7,
   "id": "severe-constant",
   "metadata": {},
   "outputs": [],
   "source": [
    "poly_features=polynomial_converter.fit_transform(X)"
   ]
  },
  {
   "cell_type": "markdown",
   "id": "overall-fight",
   "metadata": {},
   "source": [
    "# To check the shape of poly_features :"
   ]
  },
  {
   "cell_type": "code",
   "execution_count": 8,
   "id": "wrapped-caution",
   "metadata": {},
   "outputs": [
    {
     "data": {
      "text/plain": [
       "(200, 19)"
      ]
     },
     "execution_count": 8,
     "metadata": {},
     "output_type": "execute_result"
    }
   ],
   "source": [
    "poly_features.shape"
   ]
  },
  {
   "cell_type": "markdown",
   "id": "superior-nickel",
   "metadata": {},
   "source": [
    "# Importing the train_test_split library:"
   ]
  },
  {
   "cell_type": "code",
   "execution_count": 10,
   "id": "animal-employee",
   "metadata": {},
   "outputs": [],
   "source": [
    "from sklearn.model_selection import train_test_split"
   ]
  },
  {
   "cell_type": "code",
   "execution_count": 11,
   "id": "false-collectible",
   "metadata": {},
   "outputs": [],
   "source": [
    "X_train, X_test, y_train, y_test = train_test_split(poly_features, y, test_size=0.3, random_state=101)"
   ]
  },
  {
   "cell_type": "code",
   "execution_count": 12,
   "id": "false-donna",
   "metadata": {},
   "outputs": [
    {
     "data": {
      "text/plain": [
       "array([[1.93200000e+02, 1.84000000e+01, 6.57000000e+01, ...,\n",
       "        2.22433920e+04, 7.94234160e+04, 2.83593393e+05],\n",
       "       [2.87600000e+02, 4.30000000e+01, 7.18000000e+01, ...,\n",
       "        1.32758200e+05, 2.21675320e+05, 3.70146232e+05],\n",
       "       [8.02000000e+01, 0.00000000e+00, 9.20000000e+00, ...,\n",
       "        0.00000000e+00, 0.00000000e+00, 7.78688000e+02],\n",
       "       ...,\n",
       "       [2.39800000e+02, 4.10000000e+00, 3.69000000e+01, ...,\n",
       "        6.20289000e+02, 5.58260100e+03, 5.02434090e+04],\n",
       "       [2.14700000e+02, 2.40000000e+01, 4.00000000e+00, ...,\n",
       "        2.30400000e+03, 3.84000000e+02, 6.40000000e+01],\n",
       "       [1.63300000e+02, 3.16000000e+01, 5.29000000e+01, ...,\n",
       "        5.28238240e+04, 8.84297560e+04, 1.48035889e+05]])"
      ]
     },
     "execution_count": 12,
     "metadata": {},
     "output_type": "execute_result"
    }
   ],
   "source": [
    "X_train"
   ]
  },
  {
   "cell_type": "markdown",
   "id": "valid-german",
   "metadata": {},
   "source": [
    "# Importing the StandardScaler library:"
   ]
  },
  {
   "cell_type": "code",
   "execution_count": 13,
   "id": "disciplinary-fusion",
   "metadata": {},
   "outputs": [],
   "source": [
    "from sklearn.preprocessing import StandardScaler"
   ]
  },
  {
   "cell_type": "markdown",
   "id": "separated-adolescent",
   "metadata": {},
   "source": [
    "# Creating the object:"
   ]
  },
  {
   "cell_type": "code",
   "execution_count": 14,
   "id": "strong-father",
   "metadata": {},
   "outputs": [],
   "source": [
    "scaler=StandardScaler()"
   ]
  },
  {
   "cell_type": "markdown",
   "id": "conservative-hanging",
   "metadata": {},
   "source": [
    "# Then fitting the scaler object:"
   ]
  },
  {
   "cell_type": "code",
   "execution_count": 15,
   "id": "recognized-april",
   "metadata": {},
   "outputs": [
    {
     "data": {
      "text/plain": [
       "StandardScaler()"
      ]
     },
     "execution_count": 15,
     "metadata": {},
     "output_type": "execute_result"
    }
   ],
   "source": [
    "scaler.fit(X_train)"
   ]
  },
  {
   "cell_type": "markdown",
   "id": "killing-nigeria",
   "metadata": {},
   "source": [
    "# Then transform X_train & X_test:"
   ]
  },
  {
   "cell_type": "code",
   "execution_count": 16,
   "id": "favorite-beaver",
   "metadata": {},
   "outputs": [],
   "source": [
    "scaled_X_train=scaler.transform(X_train)"
   ]
  },
  {
   "cell_type": "code",
   "execution_count": 17,
   "id": "industrial-female",
   "metadata": {},
   "outputs": [],
   "source": [
    "scaled_X_test=scaler.transform(X_test)"
   ]
  },
  {
   "cell_type": "markdown",
   "id": "compatible-accident",
   "metadata": {},
   "source": [
    "# Now let's compare the first value of scaled_X_train & poly_features:"
   ]
  },
  {
   "cell_type": "code",
   "execution_count": 21,
   "id": "elementary-parallel",
   "metadata": {},
   "outputs": [
    {
     "data": {
      "text/plain": [
       "array([ 0.49300171, -0.33994238,  1.61586707,  0.28407363, -0.02568776,\n",
       "        1.49677566, -0.59023161,  0.41659155,  1.6137853 ,  0.08057172,\n",
       "       -0.05392229,  1.01524393, -0.36986163,  0.52457967,  1.48737034,\n",
       "       -0.66096022, -0.16360242,  0.54694754,  1.37075536])"
      ]
     },
     "execution_count": 21,
     "metadata": {},
     "output_type": "execute_result"
    }
   ],
   "source": [
    "scaled_X_train[0]"
   ]
  },
  {
   "cell_type": "code",
   "execution_count": 22,
   "id": "occupational-mineral",
   "metadata": {},
   "outputs": [
    {
     "data": {
      "text/plain": [
       "array([2.30100000e+02, 3.78000000e+01, 6.92000000e+01, 5.29460100e+04,\n",
       "       8.69778000e+03, 1.59229200e+04, 1.42884000e+03, 2.61576000e+03,\n",
       "       4.78864000e+03, 1.21828769e+07, 2.00135918e+06, 3.66386389e+06,\n",
       "       3.28776084e+05, 6.01886376e+05, 1.10186606e+06, 5.40101520e+04,\n",
       "       9.88757280e+04, 1.81010592e+05, 3.31373888e+05])"
      ]
     },
     "execution_count": 22,
     "metadata": {},
     "output_type": "execute_result"
    }
   ],
   "source": [
    "poly_features[0]"
   ]
  },
  {
   "cell_type": "markdown",
   "id": "sitting-retirement",
   "metadata": {},
   "source": [
    "# Let's import the Ridge library:"
   ]
  },
  {
   "cell_type": "code",
   "execution_count": 23,
   "id": "attempted-editor",
   "metadata": {},
   "outputs": [],
   "source": [
    "from sklearn.linear_model import Ridge"
   ]
  },
  {
   "cell_type": "code",
   "execution_count": 24,
   "id": "hundred-illness",
   "metadata": {},
   "outputs": [],
   "source": [
    "ridge_model=Ridge(alpha=10)"
   ]
  },
  {
   "cell_type": "code",
   "execution_count": 25,
   "id": "protecting-nickel",
   "metadata": {},
   "outputs": [
    {
     "data": {
      "text/plain": [
       "Ridge(alpha=10)"
      ]
     },
     "execution_count": 25,
     "metadata": {},
     "output_type": "execute_result"
    }
   ],
   "source": [
    "ridge_model.fit(scaled_X_train,y_train)"
   ]
  },
  {
   "cell_type": "markdown",
   "id": "electronic-bloom",
   "metadata": {},
   "source": [
    "# Now let's get the prediction from ridge_model:"
   ]
  },
  {
   "cell_type": "code",
   "execution_count": 26,
   "id": "prospective-resolution",
   "metadata": {},
   "outputs": [],
   "source": [
    "test_predictions=ridge_model.predict(scaled_X_test)"
   ]
  },
  {
   "cell_type": "markdown",
   "id": "blessed-harvey",
   "metadata": {},
   "source": [
    "# Now let's check the mean_absolute_error & mean_squared_error:"
   ]
  },
  {
   "cell_type": "code",
   "execution_count": 27,
   "id": "invalid-tumor",
   "metadata": {},
   "outputs": [],
   "source": [
    "from sklearn.metrics import mean_absolute_error,mean_squared_error"
   ]
  },
  {
   "cell_type": "code",
   "execution_count": 28,
   "id": "still-polls",
   "metadata": {},
   "outputs": [],
   "source": [
    "MAE=mean_absolute_error(y_test,test_predictions)"
   ]
  },
  {
   "cell_type": "code",
   "execution_count": 29,
   "id": "driven-transaction",
   "metadata": {},
   "outputs": [
    {
     "data": {
      "text/plain": [
       "0.5774404204714166"
      ]
     },
     "execution_count": 29,
     "metadata": {},
     "output_type": "execute_result"
    }
   ],
   "source": [
    "MAE"
   ]
  },
  {
   "cell_type": "code",
   "execution_count": 30,
   "id": "handy-transsexual",
   "metadata": {},
   "outputs": [],
   "source": [
    "RMSE=np.sqrt(mean_squared_error(y_test,test_predictions))"
   ]
  },
  {
   "cell_type": "code",
   "execution_count": 31,
   "id": "understanding-tract",
   "metadata": {},
   "outputs": [
    {
     "data": {
      "text/plain": [
       "0.8946386461319675"
      ]
     },
     "execution_count": 31,
     "metadata": {},
     "output_type": "execute_result"
    }
   ],
   "source": [
    "RMSE"
   ]
  },
  {
   "cell_type": "markdown",
   "id": "exempt-stage",
   "metadata": {},
   "source": [
    "# Let's import the RidgeCV library and create the object and fit it:"
   ]
  },
  {
   "cell_type": "code",
   "execution_count": 32,
   "id": "duplicate-vegetable",
   "metadata": {},
   "outputs": [],
   "source": [
    "from sklearn.linear_model import RidgeCV"
   ]
  },
  {
   "cell_type": "code",
   "execution_count": 36,
   "id": "appointed-electronics",
   "metadata": {},
   "outputs": [],
   "source": [
    "ridge_cv_model=RidgeCV(alphas=(0.1,1.0,10.0),scoring='neg_mean_absolute_error')"
   ]
  },
  {
   "cell_type": "code",
   "execution_count": 37,
   "id": "injured-webmaster",
   "metadata": {},
   "outputs": [
    {
     "data": {
      "text/plain": [
       "RidgeCV(alphas=array([ 0.1,  1. , 10. ]), scoring='neg_mean_absolute_error')"
      ]
     },
     "execution_count": 37,
     "metadata": {},
     "output_type": "execute_result"
    }
   ],
   "source": [
    "ridge_cv_model.fit(scaled_X_train,y_train)"
   ]
  },
  {
   "cell_type": "code",
   "execution_count": 38,
   "id": "streaming-longer",
   "metadata": {},
   "outputs": [
    {
     "data": {
      "text/plain": [
       "0.1"
      ]
     },
     "execution_count": 38,
     "metadata": {},
     "output_type": "execute_result"
    }
   ],
   "source": [
    "ridge_cv_model.alpha_"
   ]
  },
  {
   "cell_type": "markdown",
   "id": "excess-logging",
   "metadata": {},
   "source": [
    "# To get the SCORERS:"
   ]
  },
  {
   "cell_type": "code",
   "execution_count": 39,
   "id": "assured-cloud",
   "metadata": {},
   "outputs": [],
   "source": [
    "from sklearn.metrics import SCORERS"
   ]
  },
  {
   "cell_type": "code",
   "execution_count": 40,
   "id": "judicial-kitty",
   "metadata": {},
   "outputs": [
    {
     "data": {
      "text/plain": [
       "dict_keys(['explained_variance', 'r2', 'max_error', 'neg_median_absolute_error', 'neg_mean_absolute_error', 'neg_mean_squared_error', 'neg_mean_squared_log_error', 'neg_root_mean_squared_error', 'neg_mean_poisson_deviance', 'neg_mean_gamma_deviance', 'accuracy', 'roc_auc', 'roc_auc_ovr', 'roc_auc_ovo', 'roc_auc_ovr_weighted', 'roc_auc_ovo_weighted', 'balanced_accuracy', 'average_precision', 'neg_log_loss', 'neg_brier_score', 'adjusted_rand_score', 'homogeneity_score', 'completeness_score', 'v_measure_score', 'mutual_info_score', 'adjusted_mutual_info_score', 'normalized_mutual_info_score', 'fowlkes_mallows_score', 'precision', 'precision_macro', 'precision_micro', 'precision_samples', 'precision_weighted', 'recall', 'recall_macro', 'recall_micro', 'recall_samples', 'recall_weighted', 'f1', 'f1_macro', 'f1_micro', 'f1_samples', 'f1_weighted', 'jaccard', 'jaccard_macro', 'jaccard_micro', 'jaccard_samples', 'jaccard_weighted'])"
      ]
     },
     "execution_count": 40,
     "metadata": {},
     "output_type": "execute_result"
    }
   ],
   "source": [
    "SCORERS.keys()"
   ]
  },
  {
   "cell_type": "markdown",
   "id": "endless-concentrate",
   "metadata": {},
   "source": [
    "# Now let's get the prediction from ridge_cv_model for the scaled_X_test:"
   ]
  },
  {
   "cell_type": "code",
   "execution_count": 41,
   "id": "following-directive",
   "metadata": {},
   "outputs": [],
   "source": [
    "test_predictions=ridge_cv_model.predict(scaled_X_test)"
   ]
  },
  {
   "cell_type": "markdown",
   "id": "breeding-hurricane",
   "metadata": {},
   "source": [
    "# Now let's check the mean_absolute_error & mean_squared_error:"
   ]
  },
  {
   "cell_type": "code",
   "execution_count": 42,
   "id": "dense-distributor",
   "metadata": {},
   "outputs": [],
   "source": [
    "MAE=mean_absolute_error(y_test,test_predictions)"
   ]
  },
  {
   "cell_type": "code",
   "execution_count": 43,
   "id": "representative-employee",
   "metadata": {},
   "outputs": [
    {
     "data": {
      "text/plain": [
       "0.42737748843249934"
      ]
     },
     "execution_count": 43,
     "metadata": {},
     "output_type": "execute_result"
    }
   ],
   "source": [
    "MAE"
   ]
  },
  {
   "cell_type": "code",
   "execution_count": 44,
   "id": "stopped-contamination",
   "metadata": {},
   "outputs": [],
   "source": [
    "RMSE=np.sqrt(mean_squared_error(y_test,test_predictions))"
   ]
  },
  {
   "cell_type": "code",
   "execution_count": 45,
   "id": "great-chest",
   "metadata": {},
   "outputs": [
    {
     "data": {
      "text/plain": [
       "0.6180719926923581"
      ]
     },
     "execution_count": 45,
     "metadata": {},
     "output_type": "execute_result"
    }
   ],
   "source": [
    "RMSE"
   ]
  },
  {
   "cell_type": "markdown",
   "id": "automated-livestock",
   "metadata": {},
   "source": [
    "# Let's import the LassoCV library , create the object and fit it:"
   ]
  },
  {
   "cell_type": "code",
   "execution_count": 46,
   "id": "coral-amsterdam",
   "metadata": {},
   "outputs": [],
   "source": [
    "from sklearn.linear_model import LassoCV"
   ]
  },
  {
   "cell_type": "code",
   "execution_count": 65,
   "id": "institutional-incentive",
   "metadata": {},
   "outputs": [],
   "source": [
    "lasso_cv_model=LassoCV(eps=0.001,n_alphas=100,cv=5,max_iter=100000)"
   ]
  },
  {
   "cell_type": "code",
   "execution_count": 66,
   "id": "polish-newton",
   "metadata": {},
   "outputs": [
    {
     "data": {
      "text/plain": [
       "LassoCV(cv=5, max_iter=100000)"
      ]
     },
     "execution_count": 66,
     "metadata": {},
     "output_type": "execute_result"
    }
   ],
   "source": [
    "lasso_cv_model.fit(scaled_X_train,y_train)"
   ]
  },
  {
   "cell_type": "markdown",
   "id": "administrative-arthritis",
   "metadata": {},
   "source": [
    "# To get the best alpha:"
   ]
  },
  {
   "cell_type": "code",
   "execution_count": 67,
   "id": "typical-doctrine",
   "metadata": {},
   "outputs": [
    {
     "data": {
      "text/plain": [
       "0.004943070909225827"
      ]
     },
     "execution_count": 67,
     "metadata": {},
     "output_type": "execute_result"
    }
   ],
   "source": [
    "lasso_cv_model.alpha_"
   ]
  },
  {
   "cell_type": "markdown",
   "id": "capital-barrel",
   "metadata": {},
   "source": [
    "# Now let's get the prediction from lasso_cv_model:"
   ]
  },
  {
   "cell_type": "code",
   "execution_count": 68,
   "id": "wanted-reporter",
   "metadata": {},
   "outputs": [],
   "source": [
    "test_predictions=lasso_cv_model.predict(scaled_X_test)"
   ]
  },
  {
   "cell_type": "markdown",
   "id": "changing-mixer",
   "metadata": {},
   "source": [
    "# Now let's check the mean_absolute_error & mean_squared_error:"
   ]
  },
  {
   "cell_type": "code",
   "execution_count": 69,
   "id": "preceding-somerset",
   "metadata": {},
   "outputs": [],
   "source": [
    "MAE=mean_absolute_error(y_test,test_predictions)"
   ]
  },
  {
   "cell_type": "code",
   "execution_count": 70,
   "id": "preceding-peoples",
   "metadata": {},
   "outputs": [
    {
     "data": {
      "text/plain": [
       "0.43350346185900673"
      ]
     },
     "execution_count": 70,
     "metadata": {},
     "output_type": "execute_result"
    }
   ],
   "source": [
    "MAE"
   ]
  },
  {
   "cell_type": "code",
   "execution_count": 71,
   "id": "residential-wallet",
   "metadata": {},
   "outputs": [],
   "source": [
    "RMSE=np.sqrt(mean_squared_error(y_test,test_predictions))"
   ]
  },
  {
   "cell_type": "code",
   "execution_count": 72,
   "id": "english-straight",
   "metadata": {},
   "outputs": [
    {
     "data": {
      "text/plain": [
       "0.6063140748984029"
      ]
     },
     "execution_count": 72,
     "metadata": {},
     "output_type": "execute_result"
    }
   ],
   "source": [
    "RMSE"
   ]
  },
  {
   "cell_type": "markdown",
   "id": "spare-removal",
   "metadata": {},
   "source": [
    "# According to the result, Ridge performs better than Lasso."
   ]
  },
  {
   "cell_type": "markdown",
   "id": "consecutive-warehouse",
   "metadata": {},
   "source": [
    "# Let's import the ElasticNetCV library, create model & fit it:"
   ]
  },
  {
   "cell_type": "code",
   "execution_count": 55,
   "id": "acoustic-advocacy",
   "metadata": {},
   "outputs": [],
   "source": [
    "from sklearn.linear_model import ElasticNetCV"
   ]
  },
  {
   "cell_type": "code",
   "execution_count": 57,
   "id": "defensive-irish",
   "metadata": {},
   "outputs": [],
   "source": [
    "elastic_model=ElasticNetCV(l1_ratio=[.1,.5,.7,.9,.95,.99,1],eps=0.001,n_alphas=100,max_iter=100000)"
   ]
  },
  {
   "cell_type": "code",
   "execution_count": 58,
   "id": "linear-pursuit",
   "metadata": {},
   "outputs": [
    {
     "data": {
      "text/plain": [
       "ElasticNetCV(l1_ratio=[0.1, 0.5, 0.7, 0.9, 0.95, 0.99, 1], max_iter=100000)"
      ]
     },
     "execution_count": 58,
     "metadata": {},
     "output_type": "execute_result"
    }
   ],
   "source": [
    "elastic_model.fit(scaled_X_train,y_train)"
   ]
  },
  {
   "cell_type": "markdown",
   "id": "musical-things",
   "metadata": {},
   "source": [
    "# To get l1_ratio values:"
   ]
  },
  {
   "cell_type": "code",
   "execution_count": 59,
   "id": "essential-significance",
   "metadata": {},
   "outputs": [
    {
     "data": {
      "text/plain": [
       "[0.1, 0.5, 0.7, 0.9, 0.95, 0.99, 1]"
      ]
     },
     "execution_count": 59,
     "metadata": {},
     "output_type": "execute_result"
    }
   ],
   "source": [
    "elastic_model.l1_ratio"
   ]
  },
  {
   "cell_type": "markdown",
   "id": "temporal-question",
   "metadata": {},
   "source": [
    "# To get the best l1_ratio:"
   ]
  },
  {
   "cell_type": "code",
   "execution_count": 61,
   "id": "illegal-daisy",
   "metadata": {},
   "outputs": [
    {
     "data": {
      "text/plain": [
       "1.0"
      ]
     },
     "execution_count": 61,
     "metadata": {},
     "output_type": "execute_result"
    }
   ],
   "source": [
    "elastic_model.l1_ratio_"
   ]
  },
  {
   "cell_type": "markdown",
   "id": "concerned-howard",
   "metadata": {},
   "source": [
    "# To get the best alpha:"
   ]
  },
  {
   "cell_type": "code",
   "execution_count": 63,
   "id": "balanced-poverty",
   "metadata": {},
   "outputs": [
    {
     "data": {
      "text/plain": [
       "0.004943070909225827"
      ]
     },
     "execution_count": 63,
     "metadata": {},
     "output_type": "execute_result"
    }
   ],
   "source": [
    "elastic_model.alpha_"
   ]
  },
  {
   "cell_type": "markdown",
   "id": "certain-kernel",
   "metadata": {},
   "source": [
    "# It's the same value as lasso best alpha:"
   ]
  },
  {
   "cell_type": "code",
   "execution_count": 73,
   "id": "ambient-motorcycle",
   "metadata": {},
   "outputs": [
    {
     "data": {
      "text/plain": [
       "0.004943070909225827"
      ]
     },
     "execution_count": 73,
     "metadata": {},
     "output_type": "execute_result"
    }
   ],
   "source": [
    "lasso_cv_model.alpha_"
   ]
  },
  {
   "cell_type": "markdown",
   "id": "amended-detroit",
   "metadata": {},
   "source": [
    "# Now let's get the prediction from elastic_model:"
   ]
  },
  {
   "cell_type": "code",
   "execution_count": 74,
   "id": "filled-therapist",
   "metadata": {},
   "outputs": [],
   "source": [
    "test_predictions=elastic_model.predict(scaled_X_test)"
   ]
  },
  {
   "cell_type": "markdown",
   "id": "charged-fifteen",
   "metadata": {},
   "source": [
    "# Now let's check the mean_absolute_error & mean_squared_error:"
   ]
  },
  {
   "cell_type": "code",
   "execution_count": 75,
   "id": "regular-craps",
   "metadata": {},
   "outputs": [],
   "source": [
    "MAE=mean_absolute_error(y_test,test_predictions)"
   ]
  },
  {
   "cell_type": "code",
   "execution_count": 76,
   "id": "documentary-morrison",
   "metadata": {},
   "outputs": [
    {
     "data": {
      "text/plain": [
       "0.43350346185900673"
      ]
     },
     "execution_count": 76,
     "metadata": {},
     "output_type": "execute_result"
    }
   ],
   "source": [
    "MAE"
   ]
  },
  {
   "cell_type": "code",
   "execution_count": 77,
   "id": "defensive-rochester",
   "metadata": {},
   "outputs": [],
   "source": [
    "RMSE=np.sqrt(mean_squared_error(y_test,test_predictions))"
   ]
  },
  {
   "cell_type": "code",
   "execution_count": 78,
   "id": "terminal-answer",
   "metadata": {},
   "outputs": [
    {
     "data": {
      "text/plain": [
       "0.6063140748984029"
      ]
     },
     "execution_count": 78,
     "metadata": {},
     "output_type": "execute_result"
    }
   ],
   "source": [
    "RMSE"
   ]
  },
  {
   "cell_type": "markdown",
   "id": "floral-christopher",
   "metadata": {},
   "source": [
    "# sama as MAE in lasso"
   ]
  },
  {
   "cell_type": "code",
   "execution_count": null,
   "id": "structural-optimum",
   "metadata": {},
   "outputs": [],
   "source": []
  }
 ],
 "metadata": {
  "kernelspec": {
   "display_name": "Python 3",
   "language": "python",
   "name": "python3"
  },
  "language_info": {
   "codemirror_mode": {
    "name": "ipython",
    "version": 3
   },
   "file_extension": ".py",
   "mimetype": "text/x-python",
   "name": "python",
   "nbconvert_exporter": "python",
   "pygments_lexer": "ipython3",
   "version": "3.9.1"
  }
 },
 "nbformat": 4,
 "nbformat_minor": 5
}
